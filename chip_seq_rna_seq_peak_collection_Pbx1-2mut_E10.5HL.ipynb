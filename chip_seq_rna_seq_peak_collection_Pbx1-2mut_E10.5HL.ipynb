{
 "cells": [
  {
   "cell_type": "markdown",
   "id": "9de1b51e",
   "metadata": {
    "id": "9de1b51e"
   },
   "source": [
    "# Program name: ChIP-seq peak collection of gene set from RNA-seq experiment\n",
    "\n",
    "- Version: 2025-09-17\n",
    "- Author: Vera Laub\n",
    "- Stage: under construction\n",
    "- Input: .txt with RNA-Seq data of Pbx1/2 mutants with significantly called FC (DEseq2 pre-processing), .txt files with ChIP-seq data pf PBX1 in E10.5 HL (ChIPseeker pre-processing)\n",
    "- Output: .bed files with ChIP-seq peaks of all genes defined in RNA-seq file (peak chr, peak start, peak stop, Gene ID); peaks for up/downregulated genes are saved in separate files; whole peaks and 200nt summit of peaks saved in separate files for subsequent analysis\n",
    "- Description: This program serves the purpose of assembling Genes from an RNA-seq file (1. Input) and collecting the respective ChIP-seq peaks (2. Input). Code meant to be flexible :)!"
   ]
  },
  {
   "cell_type": "code",
   "execution_count": 71,
   "id": "2702652c",
   "metadata": {
    "id": "2702652c",
    "outputId": "26f7db32-c3b6-4518-d54b-59d3f302a1d6"
   },
   "outputs": [
    {
     "name": "stdout",
     "output_type": "stream",
     "text": [
      "['gene_name\\tbaseMean\\tlog2FoldChange\\tlfcSE\\tstat\\tpvalue\\tpadj\\tpbx_ctrl_rep1\\tpbx_ctrl_rep2\\tpbx_ctrl_rep3\\tpbx_mutant_rep1\\tpbx_mutant_rep2\\tpbx_mutant_rep3\\n', '0610010F05Rik\\t1546.29395974483\\t-0.210384926327583\\t0.0690607410052917\\t-3.04637516576115\\t0.00231618635459445\\t0.0206446456178762\\t1684\\t1632\\t1602\\t1414\\t1567\\t1390\\n', '0610030E20Rik\\t2351.42503521729\\t-0.188728285120069\\t0.0639592790254767\\t-2.95075691902176\\t0.0031699628552793\\t0.0265451383159535\\t2525\\t2310\\t2596\\t2257\\t2238\\t2199\\n', '0610040J01Rik\\t404.661884798907\\t0.904265206971576\\t0.141299519122241\\t6.39963400150908\\t0.000000000155749838511623\\t0.000000010016759816197\\t250\\t249\\t337\\t509\\t526\\t571\\n', '1110032A03Rik\\t449.935579020084\\t0.335315492437819\\t0.111198951156795\\t3.01545553217503\\t0.0025659356102332\\t0.022472231128411\\t359\\t398\\t422\\t501\\t542\\t487\\n', '1110032F04Rik\\t324.046237532943\\t-0.927391953297356\\t0.14086411480276\\t-6.58359266727304\\t0.0000000000459214146948832\\t0.00000000317806138437306\\t419\\t364\\t478\\t200\\t246\\t235\\n', '1110038B12Rik\\t3104.26231481214\\t-0.362982765125337\\t0.0854169387231678\\t-4.24954078841138\\t0.0000214209202443416\\t0.000413293936956736\\t3221\\t3402\\t3729\\t2872\\t2939\\t2468\\n', '1190002F15Rik\\t249.152428890127\\t0.504359781156237\\t0.141676266513322\\t3.55994545571126\\t0.000370931829957477\\t0.004679768087198\\t197\\t226\\t187\\t291\\t300\\t299\\n', '1500012F01Rik\\t2501.62068623007\\t-0.489486270190485\\t0.125601398807468\\t-3.89714027740097\\t0.00009733524514382\\t0.00151832520309833\\t2514\\t2575\\t3579\\t2196\\t2234\\t1914\\n', '1500015A07Rik\\t182.893223417464\\t-0.428032413082119\\t0.157883248541597\\t-2.71106920484567\\t0.00670666269098517\\t0.0473582122219992\\t227\\t211\\t184\\t160\\t159\\t156\\n']\n"
     ]
    }
   ],
   "source": [
    "# Set up list of genes used for collection of peaks\n",
    "\n",
    "# Retrieve RNA-seq peaks file\n",
    "file = open(\"/Users/veralaub/Documents/postdoc/bioinformatics/data/RNA-seq/RNA-seq_E10.5hindlimb_Pbx1-2_Hand2_mut/analysis/DEseq2_RNA-seq_Pbx1+2mutant_analysis_significant.txt\", \"r\")\n",
    "rna_seq_genes = file.readlines()\n",
    "file.close()\n",
    "\n",
    "print(rna_seq_genes[:10])"
   ]
  },
  {
   "cell_type": "code",
   "execution_count": 72,
   "id": "58d8cf6f",
   "metadata": {
    "id": "58d8cf6f",
    "outputId": "c16fec6d-c5d2-4eef-8d3c-6543ea6a971c"
   },
   "outputs": [
    {
     "name": "stdout",
     "output_type": "stream",
     "text": [
      "[['0610010F05Rik', '1546.29395974483', -0.210384926327583, '0.0690607410052917', '-3.04637516576115', '0.00231618635459445', '0.0206446456178762', '1684', '1632', '1602', '1414', '1567', '1390'], ['0610030E20Rik', '2351.42503521729', -0.188728285120069, '0.0639592790254767', '-2.95075691902176', '0.0031699628552793', '0.0265451383159535', '2525', '2310', '2596', '2257', '2238', '2199'], ['0610040J01Rik', '404.661884798907', 0.904265206971576, '0.141299519122241', '6.39963400150908', '0.000000000155749838511623', '0.000000010016759816197', '250', '249', '337', '509', '526', '571'], ['1110032A03Rik', '449.935579020084', 0.335315492437819, '0.111198951156795', '3.01545553217503', '0.0025659356102332', '0.022472231128411', '359', '398', '422', '501', '542', '487'], ['1110032F04Rik', '324.046237532943', -0.927391953297356, '0.14086411480276', '-6.58359266727304', '0.0000000000459214146948832', '0.00000000317806138437306', '419', '364', '478', '200', '246', '235'], ['1110038B12Rik', '3104.26231481214', -0.362982765125337, '0.0854169387231678', '-4.24954078841138', '0.0000214209202443416', '0.000413293936956736', '3221', '3402', '3729', '2872', '2939', '2468'], ['1190002F15Rik', '249.152428890127', 0.504359781156237, '0.141676266513322', '3.55994545571126', '0.000370931829957477', '0.004679768087198', '197', '226', '187', '291', '300', '299'], ['1500012F01Rik', '2501.62068623007', -0.489486270190485, '0.125601398807468', '-3.89714027740097', '0.00009733524514382', '0.00151832520309833', '2514', '2575', '3579', '2196', '2234', '1914'], ['1500015A07Rik', '182.893223417464', -0.428032413082119, '0.157883248541597', '-2.71106920484567', '0.00670666269098517', '0.0473582122219992', '227', '211', '184', '160', '159', '156'], ['1600014C10Rik', '753.519227796033', 0.259037899037053, '0.0899704738022363', '2.87914343550578', '0.00398756928175749', '0.0317625358010216', '676', '695', '662', '778', '857', '866']]\n"
     ]
    }
   ],
   "source": [
    "# Since first line carries header for each column, this needs to be removed first\n",
    "rna_seq_genes = rna_seq_genes[1:]\n",
    "\n",
    "# Iterate over RNA-seq file and store information of genes in list, process data to remove whitepsace\n",
    "for n in range(0, len(rna_seq_genes)):\n",
    "    rna_seq_genes[n] = rna_seq_genes[n].strip()\n",
    "    rna_seq_genes[n] = rna_seq_genes[n].split()\n",
    "    rna_seq_genes[n][2] = float(rna_seq_genes[n][2])\n",
    "\n",
    "print(rna_seq_genes[:10])"
   ]
  },
  {
   "cell_type": "code",
   "execution_count": 73,
   "id": "9c776317-aad9-426e-a752-974ec22813b4",
   "metadata": {},
   "outputs": [
    {
     "name": "stdout",
     "output_type": "stream",
     "text": [
      "Upregulated genes used for peak collection: ['0610040J01Rik', '1110032A03Rik', '1190002F15Rik', '1600014C10Rik', '1700017B05Rik', '1700020I14Rik', '1700020L24Rik', '1700021K19Rik', '1810011O10Rik', '2010003K11Rik']\n",
      "Downregulated genes used for peak collection: ['0610010F05Rik', '0610030E20Rik', '1110032F04Rik', '1110038B12Rik', '1500012F01Rik', '1500015A07Rik', '1700108F19Rik', '1810032O08Rik', '2010111I01Rik', '2310057M21Rik']\n"
     ]
    }
   ],
   "source": [
    "# Initiate 2 separate list of up-/ downregulated genes\n",
    "genes_id_up = []\n",
    "genes_id_down = []\n",
    "j = 0\n",
    "\n",
    "for line in range(0, len(rna_seq_genes)):\n",
    "    if rna_seq_genes[j][2] > 0:\n",
    "        genes_id_up.append(rna_seq_genes[j][0])\n",
    "        j += 1\n",
    "    elif rna_seq_genes[j][2] < 0:\n",
    "        genes_id_down.append(rna_seq_genes[j][0])\n",
    "        j += 1\n",
    "\n",
    "\n",
    "print(\"Upregulated genes used for peak collection:\", genes_id_up[:10])\n",
    "print(\"Downregulated genes used for peak collection:\", genes_id_down[:10])"
   ]
  },
  {
   "cell_type": "code",
   "execution_count": 74,
   "id": "7c667dcc",
   "metadata": {
    "id": "7c667dcc",
    "outputId": "04cd11fb-084e-4dd9-8b6d-434c49014299"
   },
   "outputs": [
    {
     "name": "stdout",
     "output_type": "stream",
     "text": [
      "['Chrom\\tStart\\tEnd\\tgeneName\\tdistanceToTSS\\tannotation\\tgeneChr\\tgeneStart\\tgeneEnd\\tgeneLength\\tgeneStrand\\ttranscriptId\\tgeneId\\n', 'chr16\\t18629436\\t18629765\\tCdc45\\t576\\tPromoter (<=1kb)\\t16\\t18628858\\t18630341\\t1484\\t2\\tENSMUST00000231819.2\\tENSMUSG00000000028.16\\n', 'chr7\\t142135534\\t142135771\\tH19\\t-1578\\tPromoter (1-2kb)\\t7\\t142129268\\t142133957\\t4690\\t2\\tENSMUST00000299855.1\\tENSMUSG00000000031.20\\n', 'chrX\\t159831221\\t159831528\\tScml2\\t-33993\\tDistal Intergenic\\t20\\t159865521\\t159985029\\t119509\\t1\\tENSMUST00000238603.2\\tENSMUSG00000000037.18\\n', 'chr11\\t108156445\\t108156763\\tApoh\\t-77417\\tIntron (ENSMUST00000059595.11/ENSMUSG00000050965.15, intron 2 of 16)\\t11\\t108234180\\t108286731\\t52552\\t1\\tENSMUST00000133383.8\\tENSMUSG00000000049.12\\n', 'chr11\\t108210823\\t108211196\\tApoh\\t-22984\\tIntron (ENSMUST00000059595.11/ENSMUSG00000050965.15, intron 2 of 16)\\t11\\t108234180\\t108286731\\t52552\\t1\\tENSMUST00000133383.8\\tENSMUSG00000000049.12\\n', 'chr4\\t120287537\\t120288024\\tScmh1\\t-16320\\tIntron (ENSMUST00000134375.8/ENSMUSG00000000085.17, intron 1 of 3)\\t4\\t120304344\\t120387381\\t83038\\t1\\tENSMUST00000106301.8\\tENSMUSG00000000085.17\\n', 'chr4\\t120339397\\t120339734\\tScmh1\\t20121\\tIntron (ENSMUST00000000087.13/ENSMUSG00000000085.17, intron 8 of 16)\\t4\\t120319277\\t120386456\\t67180\\t1\\tENSMUST00000106298.10\\tENSMUSG00000000085.17\\n', 'chr9\\t57421051\\t57421584\\tCox5a\\t-6973\\tDistal Intergenic\\t9\\t57428557\\t57439709\\t11153\\t1\\tENSMUST00000213678.2\\tENSMUSG00000000088.8\\n', 'chr11\\t85799678\\t85800301\\tTbx4\\t12088\\tIntron (ENSMUST00000108047.8/ENSMUSG00000000094.13, intron 5 of 8)\\t11\\t85787591\\t85806921\\t19331\\t1\\tENSMUST00000108045.3\\tENSMUSG00000000094.13\\n']\n"
     ]
    }
   ],
   "source": [
    "# Set up list of ChIP-seq peaks to collect from\n",
    "\n",
    "# Retrieve ChIP-seq peaks file\n",
    "file = open(\"/Users/veralaub/Documents/postdoc/bioinformatics/results/online_tools/ChIPseeker/ChIPseeker_PBX1_ChIP-seq-peaks_E10.5hindlimb/ChIPseeker_PBX1_ChIP-seq-peaks_E10.5hindlimb.txt\", \"r\")\n",
    "chip_seq_peaks = file.readlines()\n",
    "file.close()\n",
    "\n",
    "print(chip_seq_peaks[:10])"
   ]
  },
  {
   "cell_type": "code",
   "execution_count": 75,
   "id": "08d91fa6",
   "metadata": {
    "id": "08d91fa6",
    "outputId": "6d6c4843-06a7-461c-b334-3847f99d670b"
   },
   "outputs": [
    {
     "name": "stdout",
     "output_type": "stream",
     "text": [
      "[['chr16', '18629436', '18629765', 'Cdc45', '576', 'Promoter', '(<=1kb)', '16', '18628858', '18630341', '1484', '2', 'ENSMUST00000231819.2', 'ENSMUSG00000000028.16'], ['chr7', '142135534', '142135771', 'H19', '-1578', 'Promoter', '(1-2kb)', '7', '142129268', '142133957', '4690', '2', 'ENSMUST00000299855.1', 'ENSMUSG00000000031.20'], ['chrX', '159831221', '159831528', 'Scml2', '-33993', 'Distal', 'Intergenic', '20', '159865521', '159985029', '119509', '1', 'ENSMUST00000238603.2', 'ENSMUSG00000000037.18'], ['chr11', '108156445', '108156763', 'Apoh', '-77417', 'Intron', '(ENSMUST00000059595.11/ENSMUSG00000050965.15,', 'intron', '2', 'of', '16)', '11', '108234180', '108286731', '52552', '1', 'ENSMUST00000133383.8', 'ENSMUSG00000000049.12'], ['chr11', '108210823', '108211196', 'Apoh', '-22984', 'Intron', '(ENSMUST00000059595.11/ENSMUSG00000050965.15,', 'intron', '2', 'of', '16)', '11', '108234180', '108286731', '52552', '1', 'ENSMUST00000133383.8', 'ENSMUSG00000000049.12'], ['chr4', '120287537', '120288024', 'Scmh1', '-16320', 'Intron', '(ENSMUST00000134375.8/ENSMUSG00000000085.17,', 'intron', '1', 'of', '3)', '4', '120304344', '120387381', '83038', '1', 'ENSMUST00000106301.8', 'ENSMUSG00000000085.17'], ['chr4', '120339397', '120339734', 'Scmh1', '20121', 'Intron', '(ENSMUST00000000087.13/ENSMUSG00000000085.17,', 'intron', '8', 'of', '16)', '4', '120319277', '120386456', '67180', '1', 'ENSMUST00000106298.10', 'ENSMUSG00000000085.17'], ['chr9', '57421051', '57421584', 'Cox5a', '-6973', 'Distal', 'Intergenic', '9', '57428557', '57439709', '11153', '1', 'ENSMUST00000213678.2', 'ENSMUSG00000000088.8'], ['chr11', '85799678', '85800301', 'Tbx4', '12088', 'Intron', '(ENSMUST00000108047.8/ENSMUSG00000000094.13,', 'intron', '5', 'of', '8)', '11', '85787591', '85806921', '19331', '1', 'ENSMUST00000108045.3', 'ENSMUSG00000000094.13'], ['chr11', '59191676', '59192182', 'Wnt9a', '-5572', 'Distal', 'Intergenic', '11', '59197754', '59224378', '26625', '1', 'ENSMUST00000000128.10', 'ENSMUSG00000000126.12']]\n"
     ]
    }
   ],
   "source": [
    "# Since first line carries header for each column, this needs to be removed first\n",
    "chip_seq_peaks = chip_seq_peaks[1:]\n",
    "\n",
    "# Iterate over ChIP-seq file and store information of peaks in list, process data to remove whitepsace\n",
    "for n in range(0, len(chip_seq_peaks)):\n",
    "    chip_seq_peaks[n] = chip_seq_peaks[n].strip()\n",
    "    chip_seq_peaks[n] = chip_seq_peaks[n].split()\n",
    "\n",
    "print(chip_seq_peaks[:10])"
   ]
  },
  {
   "cell_type": "code",
   "execution_count": 76,
   "id": "29623ee3",
   "metadata": {
    "id": "29623ee3"
   },
   "outputs": [
    {
     "name": "stdout",
     "output_type": "stream",
     "text": [
      "[['chr16', '18629436', '18629765', 'Cdc45'], ['chr7', '142135534', '142135771', 'H19'], ['chrX', '159831221', '159831528', 'Scml2'], ['chr11', '108156445', '108156763', 'Apoh'], ['chr11', '108210823', '108211196', 'Apoh'], ['chr4', '120287537', '120288024', 'Scmh1'], ['chr4', '120339397', '120339734', 'Scmh1'], ['chr9', '57421051', '57421584', 'Cox5a'], ['chr11', '85799678', '85800301', 'Tbx4'], ['chr11', '59191676', '59192182', 'Wnt9a']]\n"
     ]
    }
   ],
   "source": [
    "# Create list for ChIP-seq entire peaks with : Gene ID, chr, peak start, peak stop\n",
    "j = 0\n",
    "chip_seq_entire_peaks = []\n",
    "\n",
    "for n in range(0, len(chip_seq_peaks)):\n",
    "    chip_seq_entire_peaks.append([chip_seq_peaks[j][0], chip_seq_peaks[j][1], chip_seq_peaks[j][2], chip_seq_peaks[j][3]])\n",
    "    j += 1\n",
    "\n",
    "print(chip_seq_entire_peaks[:10])"
   ]
  },
  {
   "cell_type": "code",
   "execution_count": 77,
   "id": "85ade59e-1f00-4805-a082-4efdf0fde526",
   "metadata": {},
   "outputs": [],
   "source": [
    "# Function to retrieve ChIP-seq peak information of defined gene set\n",
    "\n",
    "def construct_peak_collection(genes, chip_peaks, output_list):\n",
    "    for g in genes:  # each gene ID\n",
    "        for peak in chip_peaks:  # each ChIP-seq entry\n",
    "            # adjust column index depending on where the gene name actually is in chip file\n",
    "            if g == peak[3]:\n",
    "                output_list.append([peak[0], peak[1], peak[2], peak[3]])\n",
    "    return output_list"
   ]
  },
  {
   "cell_type": "code",
   "execution_count": 68,
   "id": "8408549b",
   "metadata": {
    "id": "8408549b"
   },
   "outputs": [
    {
     "name": "stdout",
     "output_type": "stream",
     "text": [
      "[['chr16', '18629436', '18629765', 'Cdc45'], ['chr7', '142135534', '142135771', 'H19'], ['chrX', '159831221', '159831528', 'Scml2'], ['chr11', '108156445', '108156763', 'Apoh'], ['chr11', '108210823', '108211196', 'Apoh'], ['chr4', '120287537', '120288024', 'Scmh1'], ['chr4', '120339397', '120339734', 'Scmh1'], ['chr9', '57421051', '57421584', 'Cox5a'], ['chr11', '85799678', '85800301', 'Tbx4'], ['chr11', '59191676', '59192182', 'Wnt9a']]\n"
     ]
    }
   ],
   "source": []
  },
  {
   "cell_type": "code",
   "execution_count": 79,
   "id": "c2740086-4219-4774-81ec-6ba140d9b7d5",
   "metadata": {},
   "outputs": [
    {
     "name": "stdout",
     "output_type": "stream",
     "text": [
      "Example RNA-seq gene IDs: ['0610040J01Rik', '1110032A03Rik', '1190002F15Rik', '1600014C10Rik', '1700017B05Rik', '1700020I14Rik', '1700020L24Rik', '1700021K19Rik', '1810011O10Rik', '2010003K11Rik']\n",
      "Example ChIP-seq first column: ['Cdc45', 'H19', 'Scml2', 'Apoh', 'Apoh', 'Scmh1', 'Scmh1', 'Cox5a', 'Tbx4', 'Wnt9a']\n"
     ]
    }
   ],
   "source": [
    "print(\"Example RNA-seq gene IDs:\", genes_id_up[:10])\n",
    "print(\"Example ChIP-seq first column:\", [row[3] for row in chip_seq_peaks[:10]])"
   ]
  },
  {
   "cell_type": "code",
   "execution_count": 83,
   "id": "d3b3ff30-fb09-42f3-abc1-032819f3840c",
   "metadata": {},
   "outputs": [
    {
     "name": "stdout",
     "output_type": "stream",
     "text": [
      "[['chr5', '63968679', '63969266', '0610040J01Rik'], ['chr9', '57158115', '57158377', '1700017B05Rik'], ['chr12', '73607980', '73608484', '2210039B01Rik'], ['chr13', '77438741', '77439220', '2210408I21Rik'], ['chr1', '9699998', '9700778', '2610203C22Rik'], ['chr17', '13844236', '13844699', '2700054A10Rik'], ['chr5', '113310457', '113311029', '2900026A02Rik'], ['chr5', '45110969', '45111233', '4930431F12Rik'], ['chr5', '45121683', '45122042', '4930431F12Rik'], ['chr8', '60983011', '60983596', 'Aadat']]\n"
     ]
    }
   ],
   "source": [
    "# Store information of ChIP-seq (whole) peaks of upregulated genes in two different lists\n",
    "chip_seq_peaks_Pbx1ko_up = []\n",
    "chip_seq_peaks_Pbx1ko_up = construct_peak_collection(genes_id_up, chip_seq_entire_peaks, chip_seq_peaks_Pbx1ko_up)\n",
    "print(chip_seq_peaks_Pbx1ko_up[:10])\n",
    "\n",
    "\n",
    "# Save information on entire peaks of upregulated genes in output file\n",
    "chip_seq_peaks_Pbx1ko_up_output = open(\"/Users/veralaub/Documents/postdoc/bioinformatics/results/integration_ChIP-seq_RNA-seq_E10.5HL/ChIP-seq_PBX1_RNA-seq_Pbx1-2_mutants/PBX1chip_seq_entire_peaks_Pbx1-2ko_up.bed\", \"w\")\n",
    "\n",
    "\n",
    "def reconstruct_peak_file(chr_peaks_ko_targets):\n",
    "    k = 0\n",
    "    for line in range(len(chr_peaks_ko_targets)):\n",
    "        chip_seq_peaks_Pbx1ko_up_output.write(chr_peaks_ko_targets[k][0] + \"\\t\" + chr_peaks_ko_targets[k][1] + \"\\t\" + chr_peaks_ko_targets[k][2]  + \"\\t\" + chr_peaks_ko_targets[k][3] + \"\\n\")\n",
    "        k += 1\n",
    "    return chip_seq_peaks_Pbx1ko_up_output\n",
    "\n",
    "reconstruct_peak_file(chip_seq_peaks_Pbx1ko_up)\n",
    "chip_seq_peaks_Pbx1ko_up_output.close()\n",
    "\n",
    "\n",
    "\n",
    "# Store information of ChIP-seq entire peaks of downregulated genes in two different lists\n",
    "chip_seq_peaks_Pbx1ko_down = []\n",
    "chip_seq_peaks_Pbx1ko_down = construct_peak_collection(genes_id_down, chip_seq_entire_peaks, chip_seq_peaks_Pbx1ko_down)\n",
    "\n",
    "\n",
    "\n",
    "# Save information on (whole) peaks of downregulated genes in output file\n",
    "chip_seq_peaks_Pbx1ko_down_output = open(\"/Users/veralaub/Documents/postdoc/bioinformatics/results/integration_ChIP-seq_RNA-seq_E10.5HL/ChIP-seq_PBX1_RNA-seq_Pbx1-2_mutants/PBX1chip_seq_entire_peaks_Pbx1-2ko_down.bed\", \"w\")\n",
    "\n",
    "def reconstruct_peak_file(chr_peaks_ko_targets):\n",
    "    k = 0\n",
    "    for line in range(len(chr_peaks_ko_targets)):\n",
    "        chip_seq_peaks_Pbx1ko_down_output.write(chr_peaks_ko_targets[k][0] + \"\\t\" + chr_peaks_ko_targets[k][1] + \"\\t\" + chr_peaks_ko_targets[k][2]  + \"\\t\" + chr_peaks_ko_targets[k][3] + \"\\n\")\n",
    "        k += 1\n",
    "    return chip_seq_peaks_Pbx1ko_down_output\n",
    "\n",
    "reconstruct_peak_file(chip_seq_peaks_Pbx1ko_down)\n",
    "chip_seq_peaks_Pbx1ko_down_output.close()"
   ]
  },
  {
   "cell_type": "code",
   "execution_count": 86,
   "id": "023a5746-a593-42e6-b488-83bfebf2b4d3",
   "metadata": {},
   "outputs": [
    {
     "name": "stdout",
     "output_type": "stream",
     "text": [
      "File written: /Users/veralaub/Documents/postdoc/bioinformatics/results/integration_ChIP-seq_RNA-seq_E10.5HL/ChIP-seq_PBX1_RNA-seq_Pbx1-2_mutants/Pbx1-2ko_upregulated_genes_wChIP-peak.txt\n",
      "File written: /Users/veralaub/Documents/postdoc/bioinformatics/results/integration_ChIP-seq_RNA-seq_E10.5HL/ChIP-seq_PBX1_RNA-seq_Pbx1-2_mutants/Pbx1-2ko_downregulated_geneswChIP-peak.txt\n"
     ]
    }
   ],
   "source": [
    "# General function to write only unique gene IDs from a list of peaks\n",
    "def write_gene_list(peaks_list, output_path):\n",
    "    # peaks_list format: [gene, chr, start, stop]\n",
    "    unique_genes = sorted(set([row[3] for row in peaks_list]))\n",
    "    \n",
    "    with open(output_path, \"w\") as out:\n",
    "        for gene in unique_genes:\n",
    "            out.write(gene + \"\\n\")\n",
    "    print(f\"File written: {output_path}\")\n",
    "\n",
    "\n",
    "# === Write gene list for UP genes ===\n",
    "genes_up_file = \"/Users/veralaub/Documents/postdoc/bioinformatics/results/integration_ChIP-seq_RNA-seq_E10.5HL/ChIP-seq_PBX1_RNA-seq_Pbx1-2_mutants/Pbx1-2ko_upregulated_genes_wChIP-peak.txt\"\n",
    "write_gene_list(chip_seq_peaks_Pbx1ko_up, genes_up_file)\n",
    "\n",
    "# === Write gene list for DOWN genes ===\n",
    "genes_down_file = \"/Users/veralaub/Documents/postdoc/bioinformatics/results/integration_ChIP-seq_RNA-seq_E10.5HL/ChIP-seq_PBX1_RNA-seq_Pbx1-2_mutants/Pbx1-2ko_downregulated_geneswChIP-peak.txt\"\n",
    "write_gene_list(chip_seq_peaks_Pbx1ko_down, genes_down_file)\n"
   ]
  },
  {
   "cell_type": "code",
   "execution_count": null,
   "id": "55f9da6e-e643-48c2-a2cd-941dc0468fcd",
   "metadata": {},
   "outputs": [],
   "source": [
    "# Set up list of ChIP-seq peaks (q < 1E-20 peak call in ChIP-Atlas), downloaded form ChIP-Atlas and pre-processed with ChIPseeker via Galaxy \n",
    "\n",
    "# Retrieve ChIP-seq peaks file\n",
    "file = open(\"/Users/veralaub/Documents/postdoc/bioinformatics/results/online_tools/ChIPseeker/ChIPseeker_PBX1_ChIP-seq-peaks_E10.5hindlimb/ChIPseeker_PBX1_ChIP-seq-peaks_E10.5hindlimb.txt\", \"r\")\n",
    "chip_seq_q20_peaks = file.readlines()\n",
    "file.close()\n",
    "\n",
    "print(chip_seq_200nt_peaks[:10])"
   ]
  },
  {
   "cell_type": "code",
   "execution_count": null,
   "id": "a9861eb1",
   "metadata": {
    "id": "a9861eb1",
    "outputId": "18e958f7-904b-4a12-87bf-4f114ca5175b"
   },
   "outputs": [
    {
     "name": "stdout",
     "output_type": "stream",
     "text": [
      "[['Gm10655', 'chr9', '61370468', '61370668'], ['Xpo1', 'chr11', '23255740', '23255940'], ['D930016D06Rik', 'chr5', '104571465', '104571665'], ['Slc39a3', 'chr10', '81037299', '81037499'], ['Sp2', 'chr11', '96977668', '96977868'], ['Actr2', 'chr11', '20112899', '20113099'], ['Dcaf4', 'chr12', '83520367', '83520567'], ['Acap2', 'chr16', '31201137', '31201337'], ['Nek7', 'chr1', '138618062', '138618262'], ['Fbxl19', 'chr7', '127768904', '127769104']]\n",
      "[['chr1', '173942666', '173942866', 'Ifi203'], ['chr6', '17968913', '17969113', 'Wnt2'], ['chr6', '18029846', '18030046', 'Wnt2'], ['chr6', '18031674', '18031874', 'Wnt2'], ['chr19', '16593447', '16593647', 'Gna14'], ['chr19', '16484858', '16485058', 'Gna14'], ['chr19', '16540895', '16541095', 'Gna14'], ['chr19', '16598958', '16599158', 'Gna14'], ['chr19', '16442097', '16442297', 'Gna14'], ['chr19', '16529349', '16529549', 'Gna14']]\n"
     ]
    }
   ],
   "source": [
    "# Create list for ChIP-seq peaks with : Gene ID, chr, peak start, peak stop\n",
    "j = 0\n",
    "chip_seq_q20_peaks = []\n",
    "\n",
    "for n in range(0, len(chip_seq_peaks)):\n",
    "    chip_seq_q20_peaks.append([chip_seq_peaks[j][0], chip_seq_peaks[j][4], chip_seq_peaks[j][5], chip_seq_peaks[j][6]])\n",
    "    j += 1\n",
    "\n",
    "print(chip_seq_q20_peaks[:10])\n",
    "\n",
    "\n",
    "# Store information of ChIP-seq (q20) peaks of upregulated genes in two different lists\n",
    "chip_seq_peaks_q20_Pbx1ko_up = []\n",
    "chip_seq_peaks_q20_Pbx1ko_up = construct_peak_collection(genes_id_up, chip_seq_q20_peaks, chip_seq_peaks_q20_Pbx1_2ko_up)\n",
    "print(chip_seq_peaks_q20_Pbx1_2ko_up[:10])\n",
    "\n",
    "\n",
    "# Save information on q < 1E-20 peaks of upregulated genes in output file\n",
    "chip_seq_peaks_q20_Pbx1ko_up_output = open(\"pbx1_chip_rna_pbx1kd/chip_seq_200nt_peaks_Pbx1kd_up.bed\", \"w\")\n",
    "\n",
    "def reconstruct_peak_file(chr_peaks_kd_targets):\n",
    "    k = 0\n",
    "    for line in range(len(chr_peaks_kd_targets)):\n",
    "        chip_seq_peaks_q20_Pbx1_2ko_up_output.write(chr_peaks_ko_targets[k][0] + \"\\t\" + chr_peaks_ko_targets[k][1] + \"\\t\" + chr_peaks_ko_targets[k][2]  + \"\\t\" + chr_peaks_kd_targets[k][3] + \"\\n\")\n",
    "        k += 1\n",
    "    return chip_seq_peaks_q20_Pbx1_2ko_up_output\n",
    "\n",
    "reconstruct_peak_file(chip_seq_peaks_q20_Pbx1_2ko_up)\n",
    "chip_seq_peaks_q20_Pbx1_2ko_up_output.close()\n",
    "\n",
    "\n",
    "# Store information of ChIP-seq (200nt summit) peaks of downregulated genes in two different lists\n",
    "chip_seq_peaks_q20_Pbx1_2koPbx1kd_down = []\n",
    "chip_seq_peaks_q20_Pbx1_2ko_down = construct_peak_collection(genes_id_down, chip_seq_q20_peaks, chip_seq_peaks_q20_Pbx1_2ko_down)\n",
    "\n",
    "\n",
    "\n",
    "# Save information on 200nt summit peaks of downregulated genes in output file\n",
    "chip_seq_peaks_q20_Pbx1kd_down_output = open(\"pbx1_chip_rna_pbx1kd/chip_seq_200nt_peaks_Pbx1kd_down.bed\", \"w\")\n",
    "\n",
    "def reconstruct_peak_file(chr_peaks_ko_targets):\n",
    "    k = 0\n",
    "    for line in range(len(chr_peaks_kd_targets)):\n",
    "        chip_seq_peaks_q20_Pbx1_2ko_down_output.write(chr_peaks_ko_targets[k][0] + \"\\t\" + chr_peaks_ko_targets[k][1] + \"\\t\" + chr_peaks_k0_targets[k][2]  + \"\\t\" + chr_peaks_kd_targets[k][3] + \"\\n\")\n",
    "        k += 1\n",
    "    return chip_seq_peaks_q20_Pbx1_2ko_down_output\n",
    "\n",
    "reconstruct_peak_file(chip_seq_peaks_q20_Pbx1_2ko_down)\n",
    "chip_seq_peaks_q20_Pbx1_2ko_down_output.close()"
   ]
  }
 ],
 "metadata": {
  "colab": {
   "provenance": []
  },
  "kernelspec": {
   "display_name": "Python 3 (ipykernel)",
   "language": "python",
   "name": "python3"
  },
  "language_info": {
   "codemirror_mode": {
    "name": "ipython",
    "version": 3
   },
   "file_extension": ".py",
   "mimetype": "text/x-python",
   "name": "python",
   "nbconvert_exporter": "python",
   "pygments_lexer": "ipython3",
   "version": "3.12.6"
  }
 },
 "nbformat": 4,
 "nbformat_minor": 5
}
