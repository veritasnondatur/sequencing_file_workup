{
 "cells": [
  {
   "cell_type": "markdown",
   "id": "839e1b2b",
   "metadata": {},
   "source": [
    "# Program name: coordinate_extension\n",
    "- Purpose: Extend chromosome coordinates of CpG islands from 850K chip by value of choice (here 1000nt extension, can be adapted by changing i in kernel #5 to intended value)\n",
    "- Author: Vera Laub\n",
    "- Last update: 05/28/2025\n",
    "- Input: .csv with EPIC data\n",
    "- Output: "
   ]
  },
  {
   "cell_type": "code",
   "execution_count": 1,
   "id": "3d6a47ee-20c9-430c-9517-f8a821413b12",
   "metadata": {},
   "outputs": [
    {
     "name": "stdout",
     "output_type": "stream",
     "text": [
      "[['0.542788', '11', '28984905'], ['0.450184', '4', '131400334'], ['0.441475', '6', '30431596'], ['0.414939', 'X', '102531708'], ['0.407380', '5', '160974837'], ['0.407169', '6', '46425781'], ['0.405515', '11', '28978110'], ['0.405280', '16', '82660727'], ['0.397828', '11', '28699290'], ['0.395300', '10', '23481776']]\n"
     ]
    }
   ],
   "source": [
    "# Retrieve data from input file\n",
    "with open('../data_raw/RNBeads_Export_EPIC-Daten_Manuscript-Buhlmann_2025_04_18.csv', 'r') as file:\n",
    "    lines = file.readlines()  # This makes it a list\n",
    "\n",
    "meth_coordinates = []\n",
    "\n",
    "for line in lines[1:]:  # Now this works, skipping the header\n",
    "    parts = line.strip().split(';')\n",
    "    selected = [parts[1], parts[3], parts[4]]\n",
    "    meth_coordinates.append(selected)\n",
    "\n",
    "print(meth_coordinates[:10])"
   ]
  },
  {
   "cell_type": "code",
   "execution_count": 2,
   "id": "0fd1b816-c7a8-4828-8c93-42a5d4cb384b",
   "metadata": {},
   "outputs": [
    {
     "name": "stdout",
     "output_type": "stream",
     "text": [
      "Removing bad entry: ['0.076022', 'chr', '']\n",
      "Removing bad entry: ['0.054873', 'chr', '']\n",
      "Removing bad entry: ['0.048530', 'chr', '']\n",
      "Removing bad entry: ['0.041960', 'chr', '']\n",
      "Removing bad entry: ['0.039425', 'chr', '']\n",
      "Removing bad entry: ['0.039276', 'chr', '']\n",
      "Removing bad entry: ['0.034419', 'chr', '']\n",
      "Removing bad entry: ['0.025568', 'chr', '']\n",
      "Removing bad entry: ['0.024130', 'chr', '']\n",
      "Removing bad entry: ['0.023715', 'chr', '']\n",
      "Removing bad entry: ['0.021188', 'chr', '']\n",
      "Removing bad entry: ['0.018407', 'chr', '']\n",
      "Removing bad entry: ['0.015827', 'chr', '']\n",
      "Removing bad entry: ['0.015746', 'chr', '']\n",
      "Removing bad entry: ['0.015112', 'chr', '']\n",
      "Removing bad entry: ['0.013519', 'chr', '']\n",
      "Removing bad entry: ['0.012846', 'chr', '']\n",
      "Removing bad entry: ['0.006753', 'chr', '']\n",
      "Removing bad entry: ['0.006248', 'chr', '']\n",
      "Removing bad entry: ['0.004233', 'chr', '']\n",
      "Removing bad entry: ['0.002728', 'chr', '']\n",
      "Removing bad entry: ['0.001770', 'chr', '']\n",
      "Removing bad entry: ['0.001249', 'chr', '']\n",
      "Removing bad entry: ['0.000696', 'chr', '']\n",
      "Removing bad entry: ['0.000088', 'chr', '']\n",
      "Removing bad entry: ['-0.000537', 'chr', '']\n",
      "Removing bad entry: ['-0.001285', 'chr', '']\n",
      "Removing bad entry: ['-0.002694', 'chr', '']\n",
      "Removing bad entry: ['-0.002978', 'chr', '']\n",
      "Removing bad entry: ['-0.003144', 'chr', '']\n",
      "Removing bad entry: ['-0.005357', 'chr', '']\n",
      "Removing bad entry: ['-0.005687', 'chr', '']\n",
      "Removing bad entry: ['-0.005708', 'chr', '']\n",
      "Removing bad entry: ['-0.005778', 'chr', '']\n",
      "Removing bad entry: ['-0.006126', 'chr', '']\n",
      "Removing bad entry: ['-0.006171', 'chr', '']\n",
      "Removing bad entry: ['-0.006439', 'chr', '']\n",
      "Removing bad entry: ['-0.007736', 'chr', '']\n",
      "Removing bad entry: ['-0.010846', 'chr', '']\n",
      "Removing bad entry: ['-0.010912', 'chr', '']\n",
      "Removing bad entry: ['-0.011648', 'chr', '']\n",
      "Removing bad entry: ['-0.011774', 'chr', '']\n",
      "Removing bad entry: ['-0.012085', 'chr', '']\n",
      "Removing bad entry: ['-0.013459', 'chr', '']\n",
      "Removing bad entry: ['-0.014888', 'chr', '']\n",
      "Removing bad entry: ['-0.017345', 'chr', '']\n",
      "Removing bad entry: ['-0.028705', 'chr', '']\n",
      "Removing bad entry: ['-0.029798', 'chr', '']\n",
      "Removing bad entry: ['-0.029926', 'chr', '']\n",
      "Removing bad entry: ['-0.030608', 'chr', '']\n",
      "Removing bad entry: ['-0.031290', 'chr', '']\n",
      "Removing bad entry: ['-0.039282', 'chr', '']\n",
      "Removing bad entry: ['-0.040986', 'chr', '']\n",
      "Removing bad entry: ['-0.047088', 'chr', '']\n",
      "Removing bad entry: ['-0.047984', 'chr', '']\n",
      "Removing bad entry: ['-0.067678', 'chr', '']\n",
      "Removing bad entry: ['-0.073740', 'chr', '']\n",
      "Removing bad entry: ['-0.073906', 'chr', '']\n",
      "Removing bad entry: ['-0.175622', 'chr', '']\n",
      "Removing bad entry: ['', 'chr', '']\n",
      "Removing bad entry: ['', 'chr', '']\n",
      "Removing bad entry: ['', 'chr', '']\n",
      "Removing bad entry: ['', 'chr', '']\n",
      "Removing bad entry: ['', 'chr', '']\n",
      "Removing bad entry: ['', 'chr', '']\n",
      "Removing bad entry: ['', 'chr', '']\n",
      "Removing bad entry: ['', 'chr', '']\n",
      "Removing bad entry: ['', 'chr', '']\n",
      "Removing bad entry: ['', 'chr', '']\n",
      "Removing bad entry: ['', 'chr', '']\n",
      "Removing bad entry: ['', 'chr', '']\n",
      "Removing bad entry: ['', 'chr', '']\n",
      "Removing bad entry: ['', 'chr', '']\n",
      "Removing bad entry: ['', 'chr', '']\n",
      "Removing bad entry: ['', 'chr', '']\n",
      "Removing bad entry: ['', 'chr', '']\n",
      "Removing bad entry: ['', 'chr', '']\n",
      "Removing bad entry: ['', 'chr', '']\n",
      "[['0.542788', 'chr11', '28984905', '28984906'], ['0.450184', 'chr4', '131400334', '131400335'], ['0.441475', 'chr6', '30431596', '30431597'], ['0.414939', 'chrX', '102531708', '102531709'], ['0.407380', 'chr5', '160974837', '160974838'], ['0.407169', 'chr6', '46425781', '46425782'], ['0.405515', 'chr11', '28978110', '28978111'], ['0.405280', 'chr16', '82660727', '82660728'], ['0.397828', 'chr11', '28699290', '28699291'], ['0.395300', 'chr10', '23481776', '23481777']]\n"
     ]
    }
   ],
   "source": [
    "# Process meth_coordinates to include delta-beta value, chromosome, start and stop\n",
    "\n",
    "# Add 'chr' to chromosome identifier\n",
    "for entry in meth_coordinates:\n",
    "    entry[1] = 'chr' + entry[1]\n",
    "\n",
    "# Add stop coordinate\n",
    "cleaned = []\n",
    "for entry in meth_coordinates:\n",
    "    if entry[2].isdigit():\n",
    "        start = int(entry[2])\n",
    "        end = start + 1\n",
    "        entry.append(str(end))\n",
    "        cleaned.append(entry)\n",
    "    else:\n",
    "        print(f\"Removing bad entry: {entry}\")\n",
    "\n",
    "meth_coordinates = cleaned\n",
    "    \n",
    "print(meth_coordinates[:10])"
   ]
  },
  {
   "cell_type": "code",
   "execution_count": 3,
   "id": "44f51471-abd5-40f9-8a2d-e1bda0abfcbc",
   "metadata": {},
   "outputs": [
    {
     "name": "stdout",
     "output_type": "stream",
     "text": [
      "[[0.542788, 'chr11', 28984905, 28984906], [0.450184, 'chr4', 131400334, 131400335], [0.441475, 'chr6', 30431596, 30431597], [0.414939, 'chrX', 102531708, 102531709], [0.40738, 'chr5', 160974837, 160974838], [0.407169, 'chr6', 46425781, 46425782], [0.405515, 'chr11', 28978110, 28978111], [0.40528, 'chr16', 82660727, 82660728], [0.397828, 'chr11', 28699290, 28699291], [0.3953, 'chr10', 23481776, 23481777]]\n"
     ]
    }
   ],
   "source": [
    "# Process meth_coordinates to make numbers into float/integer\n",
    "\n",
    "for entry in meth_coordinates:\n",
    "    # Convert beta value (col 0) to float\n",
    "    entry[0] = float(entry[0])\n",
    "    \n",
    "    # Convert start and end coordinates (cols 2 and 3) to int\n",
    "    entry[2] = int(entry[2])\n",
    "    entry[3] = int(entry[3])\n",
    "\n",
    "print(meth_coordinates[:10])"
   ]
  },
  {
   "cell_type": "code",
   "execution_count": 4,
   "id": "a2346033-b6ae-44ae-9cb0-10851e9f68fb",
   "metadata": {},
   "outputs": [],
   "source": [
    "# Save filtered coordiantes of methylation site in new file\n",
    "\n",
    "# Hypermethylated sites\n",
    "# Filter entries where beta value (entry[0]) > 0.2\n",
    "hypermethylated_sites = [entry for entry in meth_coordinates if entry[0] > 0.2]\n",
    "\n",
    "# Write to a BED file with columns: chrom, start, end\n",
    "with open('../files/2025-04-28_hypermethylatedInv_deltabeta>0.2_ChrStartStop.bed', 'w') as bed_file:\n",
    "    for entry in hypermethylated_sites:\n",
    "        bed_file.write(f\"{entry[1]}\\t{entry[2]}\\t{entry[3]}\\n\")\n",
    "\n",
    "# Hypomethylated sites\n",
    "# Filter entries where beta value (entry[0]) < -0.2\n",
    "hypomethylated_sites = [entry for entry in meth_coordinates if entry[0] < -0.2]\n",
    "\n",
    "# Write to a BED file with columns: chrom, start, end\n",
    "with open('../files/2025-04-28_hypomethylatedInv_deltabeta<-0.2_ChrStartStop.bed', 'w') as bed_file:\n",
    "    for entry in hypomethylated_sites:\n",
    "        bed_file.write(f\"{entry[1]}\\t{entry[2]}\\t{entry[3]}\\n\")"
   ]
  },
  {
   "cell_type": "code",
   "execution_count": 5,
   "id": "b0e89030-dfde-4384-8dd2-83e8680460b5",
   "metadata": {},
   "outputs": [
    {
     "name": "stdout",
     "output_type": "stream",
     "text": [
      "[['chr11', 28983905, 28985906], ['chr4', 131399334, 131401335], ['chr6', 30430596, 30432597], ['chrX', 102530708, 102532709], ['chr5', 160973837, 160975838], ['chr6', 46424781, 46426782], ['chr11', 28977110, 28979111], ['chr16', 82659727, 82661728], ['chr11', 28698290, 28700291], ['chr10', 23480776, 23482777]]\n",
      "[['chr8', 6577451, 6579452], ['chr5', 76170312, 76172313], ['chr9', 74289826, 74291827], ['chr6', 1409267, 1411268], ['chr4', 120664941, 120666942], ['chr20', 20800233, 20802234], ['chr6', 25874233, 25876234], ['chr7', 30386954, 30388955], ['chr20', 46911835, 46913836], ['chr1', 155930763, 155932764]]\n"
     ]
    }
   ],
   "source": [
    "# Extend coordinates of hyper-/ and hypomethylated sites\n",
    "\n",
    "# Extend methylation coordiantes for hypermethylated sites with value of choice (i, see above).\n",
    "i = 1000     # value to extend coordinates with, i can be changed depending on extension requirements.\n",
    "j = 0      # counter variable to iterate over entire list of methylation sites\n",
    "hypermethylated_coordinates_extended = []     # new list to store information of extended sites\n",
    "\n",
    "for line in range(0, len(hypermethylated_sites)):\n",
    "    chrom = hypermethylated_sites[j][1]\n",
    "    start = hypermethylated_sites[j][2]-i\n",
    "    stop = hypermethylated_sites[j][3]+i\n",
    "    hypermethylated_coordinates_extended.append([chrom, start, stop])\n",
    "    j += 1\n",
    "    \n",
    "print(hypermethylated_coordinates_extended[:10])\n",
    "\n",
    "# Extend methylation coordiantes for hypomethylated sites with value of choice (i, see above).\n",
    "i = 1000     # value to extend coordinates with, i can be changed depending on extension requirements.\n",
    "j = 0      # counter variable to iterate over entire list of methylation sites\n",
    "hypomethylated_coordinates_extended = []     # new list to store information of extended sites\n",
    "\n",
    "for line in range(0, len(hypomethylated_sites)):\n",
    "    chrom = hypomethylated_sites[j][1]\n",
    "    start = hypomethylated_sites[j][2]-i\n",
    "    stop = hypomethylated_sites[j][3]+i\n",
    "    hypomethylated_coordinates_extended.append([chrom, start, stop])\n",
    "    j += 1\n",
    "    \n",
    "print(hypomethylated_coordinates_extended[:10])"
   ]
  },
  {
   "cell_type": "code",
   "execution_count": 6,
   "id": "954195fc-211f-4d5b-be67-c4104e2e9214",
   "metadata": {},
   "outputs": [],
   "source": [
    "# Save extended coordiantes of hypermethylated sites in new file\n",
    "output_file = open(\"../files/2025-04-28_hypermethylatedInv_deltabeta>0.2_ChrStartStop+-1000nt.bed\", \"w\")\n",
    "\n",
    "def reconstruct_extended_sites(coordinates):\n",
    "    k = 0\n",
    "    for line in range(len(coordinates)):\n",
    "        output_file.write(str(coordinates[k][0]) + \"\\t\" + str(coordinates[k][1]) + \"\\t\" + str(coordinates[k][2]) + \"\\n\")\n",
    "        k += 1\n",
    "        \n",
    "reconstruct_extended_sites(hypermethylated_coordinates_extended)\n",
    "\n",
    "output_file.close()\n",
    "\n",
    "\n",
    "# Save extended coordiantes of hypermethylated sites in new file\n",
    "output_file = open(\"../files/2025-04-28_hypomethylatedInv_deltabeta<-0.2_ChrStartStop+-1000nt.bed\", \"w\")\n",
    "        \n",
    "reconstruct_extended_sites(hypomethylated_coordinates_extended)\n",
    "\n",
    "output_file.close()"
   ]
  }
 ],
 "metadata": {
  "kernelspec": {
   "display_name": "Python 3 (ipykernel)",
   "language": "python",
   "name": "python3"
  },
  "language_info": {
   "codemirror_mode": {
    "name": "ipython",
    "version": 3
   },
   "file_extension": ".py",
   "mimetype": "text/x-python",
   "name": "python",
   "nbconvert_exporter": "python",
   "pygments_lexer": "ipython3",
   "version": "3.12.6"
  }
 },
 "nbformat": 4,
 "nbformat_minor": 5
}
