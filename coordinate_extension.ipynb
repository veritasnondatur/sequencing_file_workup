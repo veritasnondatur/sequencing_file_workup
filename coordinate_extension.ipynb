{
 "cells": [
  {
   "cell_type": "markdown",
   "id": "839e1b2b",
   "metadata": {},
   "source": [
    "# Program name: coordinate_extension\n",
    "- Purpose: Extend chromosome coordinates of CpG islands from 850K chip to a vlaue of choice (both input and output in .bed)\n",
    "- Author: Vera Laub\n",
    "- Last update: 04/15/2025"
   ]
  },
  {
   "cell_type": "code",
   "execution_count": 1,
   "id": "47872243",
   "metadata": {},
   "outputs": [
    {
     "name": "stdout",
     "output_type": "stream",
     "text": [
      "['chr18\\t44946523\\t44946725\\n', 'chr1\\t165325940\\t165326142\\n', 'chr5\\t176238274\\t176238476\\n', 'chr18\\t6976783\\t6976985\\n', 'chr11\\t131992572\\t131992774\\n', 'chr4\\t141715158\\t141715360\\n', 'chr5\\t158104457\\t158104659\\n', 'chr1\\t215355021\\t215355223\\n', 'chr13\\t78973324\\t78973526\\n', 'chr8\\t11203853\\t11204055\\n']\n"
     ]
    }
   ],
   "source": [
    "# 1. Retrieve methylation sites (CpG only).\n",
    "\n",
    "file = open(\"../files/filename.bed\", \"r\")\n",
    "\n",
    "meth_coordinates = file.readlines()\n",
    "\n",
    "file.close()\n",
    "\n",
    "print(meth_coordinates[:10])"
   ]
  },
  {
   "cell_type": "code",
   "execution_count": 2,
   "id": "cceff42f",
   "metadata": {},
   "outputs": [
    {
     "name": "stdout",
     "output_type": "stream",
     "text": [
      "[['chr18', 44946523, 44946725], ['chr1', 165325940, 165326142], ['chr5', 176238274, 176238476], ['chr18', 6976783, 6976985], ['chr11', 131992572, 131992774], ['chr4', 141715158, 141715360], ['chr5', 158104457, 158104659], ['chr1', 215355021, 215355223], ['chr13', 78973324, 78973526], ['chr8', 11203853, 11204055]]\n"
     ]
    }
   ],
   "source": [
    "# Process data to remove whitepsace and convert numeric data    \n",
    "for n in range(0, len(meth_coordinates)):\n",
    "    meth_coordinates[n] = meth_coordinates[n].strip()\n",
    "    meth_coordinates[n] = meth_coordinates[n].split()\n",
    "    meth_coordinates[n][1] = int(meth_coordinates[n][1])\n",
    "    meth_coordinates[n][2] = int(meth_coordinates[n][2])\n",
    "    \n",
    "print(meth_coordinates[:10])"
   ]
  },
  {
   "cell_type": "code",
   "execution_count": 3,
   "id": "644f4dce",
   "metadata": {},
   "outputs": [
    {
     "name": "stdout",
     "output_type": "stream",
     "text": [
      "[['chr18', 44946323, 44946925], ['chr1', 165325740, 165326342], ['chr5', 176238074, 176238676], ['chr18', 6976583, 6977185], ['chr11', 131992372, 131992974], ['chr4', 141714958, 141715560], ['chr5', 158104257, 158104859], ['chr1', 215354821, 215355423], ['chr13', 78973124, 78973726], ['chr8', 11203653, 11204255]]\n"
     ]
    }
   ],
   "source": [
    "i = 200     # value to extend coordinates with, i can be changed depending on extension requirements.\n",
    "j = 0      # counter variable to iterate over entire list of methylation sites\n",
    "meth_coordinates_extended = []     # new list to store information of extended sites\n",
    "\n",
    "\n",
    "# 2. Extend methylation coordiantes with value of choice (i, see above).\n",
    "for line in range(0, len(meth_coordinates)):\n",
    "    chrom = meth_coordinates[j][0]\n",
    "    start = meth_coordinates[j][1]-i\n",
    "    stop = meth_coordinates[j][2]+i\n",
    "    meth_coordinates_extended.append([chrom, start, stop])\n",
    "    j += 1\n",
    "    \n",
    "print(meth_coordinates_extended[:10])"
   ]
  },
  {
   "cell_type": "code",
   "execution_count": 5,
   "id": "6fa4a572",
   "metadata": {},
   "outputs": [],
   "source": [
    "# 3. Save extended coordiantes of methylation site in new file\n",
    "\n",
    "output_file = open(\"../files/filename_+-200nt.bed\", \"w\")\n",
    "\n",
    "def reconstruct_extended_sites(coordinates):\n",
    "    k = 0\n",
    "    for line in range(len(coordinates)):\n",
    "        output_file.write(str(coordinates[k][0]) + \"\\t\" + str(coordinates[k][1]) + \"\\t\" + str(coordinates[k][2]) + \"\\n\")\n",
    "        k += 1\n",
    "        \n",
    "reconstruct_extended_sites(meth_coordinates_extended)\n",
    "\n",
    "output_file.close()"
   ]
  },
  {
   "cell_type": "markdown",
   "id": "026119a2",
   "metadata": {},
   "source": [
    "### Application of program"
   ]
  },
  {
   "cell_type": "code",
   "execution_count": 6,
   "id": "19e282ac",
   "metadata": {},
   "outputs": [],
   "source": [
    "# 1. Retrieve methylation sites (CpG only).\n",
    "\n",
    "file = open(\"../files/2024-01-10_invHypomethylated_ChrStartStop.bed\", \"r\")\n",
    "\n",
    "meth_coordinates = file.readlines()\n",
    "\n",
    "file.close()\n",
    "\n",
    "# Process data to remove whitepsace and convert numeric data    \n",
    "for n in range(0, len(meth_coordinates)):\n",
    "    meth_coordinates[n] = meth_coordinates[n].strip()\n",
    "    meth_coordinates[n] = meth_coordinates[n].split()\n",
    "    meth_coordinates[n][1] = int(meth_coordinates[n][1])\n",
    "    meth_coordinates[n][2] = int(meth_coordinates[n][2])\n",
    "\n",
    "\n",
    "i = 20     # value to extend coordinates with, i can be changed depending on extension requirements.\n",
    "j = 0      # counter variable to iterate over entire list of methylation sites\n",
    "meth_coordinates_extended = []     # new list to store information of extended sites\n",
    "\n",
    "\n",
    "# 2. Extend methylation coordiantes with value of choice (i, see above).\n",
    "for line in range(0, len(meth_coordinates)):\n",
    "    chrom = meth_coordinates[j][0]\n",
    "    start = meth_coordinates[j][1]-i\n",
    "    stop = meth_coordinates[j][2]+i\n",
    "    meth_coordinates_extended.append([chrom, start, stop])\n",
    "    j += 1\n",
    "    \n",
    "    \n",
    "# 3. Save extended coordiantes of methylation site in new file\n",
    "\n",
    "output_file = open(\"../files/2025-04-15_invHypomethylated_ChrStartStop_+-200nt.bed\", \"w\")\n",
    "\n",
    "def reconstruct_extended_sites(coordinates):\n",
    "    k = 0\n",
    "    for line in range(len(coordinates)):\n",
    "        output_file.write(str(coordinates[k][0]) + \"\\t\" + str(coordinates[k][1]) + \"\\t\" + str(coordinates[k][2]) + \"\\n\")\n",
    "        k += 1\n",
    "        \n",
    "reconstruct_extended_sites(meth_coordinates_extended)\n",
    "\n",
    "output_file.close()"
   ]
  }
 ],
 "metadata": {
  "kernelspec": {
   "display_name": "Python 3 (ipykernel)",
   "language": "python",
   "name": "python3"
  },
  "language_info": {
   "codemirror_mode": {
    "name": "ipython",
    "version": 3
   },
   "file_extension": ".py",
   "mimetype": "text/x-python",
   "name": "python",
   "nbconvert_exporter": "python",
   "pygments_lexer": "ipython3",
   "version": "3.12.6"
  }
 },
 "nbformat": 4,
 "nbformat_minor": 5
}
