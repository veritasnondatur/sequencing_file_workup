{
 "cells": [
  {
   "cell_type": "markdown",
   "id": "839e1b2b",
   "metadata": {},
   "source": [
    "# Program name: coordinate_extension\n",
    "- Purpose: Extend chromosome coordinates of CpG islands from 850K chip to a vlaue of choice (both input and output in .bed)\n",
    "- Author: Vera Laub\n",
    "- Last update: 24.01.2024"
   ]
  },
  {
   "cell_type": "code",
   "execution_count": null,
   "id": "47872243",
   "metadata": {},
   "outputs": [],
   "source": [
    "# 1. Retrieve methylation sites (CpG only).\n",
    "\n",
    "file = open(\"../files/filename.bed\", \"r\")\n",
    "\n",
    "meth_coordinates = file.readlines()\n",
    "\n",
    "file.close()\n",
    "\n",
    "print(meth_coordinates[:10])"
   ]
  },
  {
   "cell_type": "code",
   "execution_count": null,
   "id": "cceff42f",
   "metadata": {},
   "outputs": [],
   "source": [
    "# Process data to remove whitepsace and convert numeric data    \n",
    "for n in range(0, len(meth_coordinates)):\n",
    "    meth_coordinates[n] = meth_coordinates[n].strip()\n",
    "    meth_coordinates[n] = meth_coordinates[n].split()\n",
    "    meth_coordinates[n][1] = int(meth_coordinates[n][1])\n",
    "    meth_coordinates[n][2] = int(meth_coordinates[n][2])\n",
    "    \n",
    "print(meth_coordinates[:10])"
   ]
  },
  {
   "cell_type": "code",
   "execution_count": null,
   "id": "644f4dce",
   "metadata": {},
   "outputs": [],
   "source": [
    "i = 20     # value to extend coordinates with, i can be changed depending on extension requirements.\n",
    "j = 0      # counter variable to iterate over entire list of methylation sites\n",
    "meth_coordinates_extended = []     # new list to store information of extended sites\n",
    "\n",
    "\n",
    "# 2. Extend methylation coordiantes with value of choice (i, see above).\n",
    "for line in range(0, len(meth_coordinates)):\n",
    "    chrom = meth_coordinates[j][0]\n",
    "    start = meth_coordinates[j][1]-i\n",
    "    stop = meth_coordinates[j][2]+i\n",
    "    meth_coordinates_extended.append([chrom, start, stop])\n",
    "    j += 1\n",
    "    \n",
    "print(meth_coordinates_extended[:10])"
   ]
  },
  {
   "cell_type": "code",
   "execution_count": null,
   "id": "6fa4a572",
   "metadata": {},
   "outputs": [],
   "source": [
    "# 3. Save extended coordiantes of methylation site in new file\n",
    "\n",
    "output_file = open(\"../files/filename_extended_nt.bed\", \"w\")\n",
    "\n",
    "def reconstruct_extended_sites(coordinates):\n",
    "    k = 0\n",
    "    for line in range(len(coordinates)):\n",
    "        output_file.write(str(coordinates[k][0]) + \"\\t\" + str(coordinates[k][1]) + \"\\t\" + str(coordinates[k][2]) + \"\\n\")\n",
    "        k += 1\n",
    "        \n",
    "reconstruct_extended_sites(meth_coordinates_extended)\n",
    "\n",
    "output_file.close()"
   ]
  },
  {
   "cell_type": "markdown",
   "id": "026119a2",
   "metadata": {},
   "source": [
    "### Application of program"
   ]
  },
  {
   "cell_type": "code",
   "execution_count": 2,
   "id": "19e282ac",
   "metadata": {},
   "outputs": [],
   "source": [
    "# 1. Retrieve methylation sites (CpG only).\n",
    "\n",
    "file = open(\"../files/infinium-methylationepic_RNbeadsAnalysis_allSites.bed\", \"r\")\n",
    "\n",
    "meth_coordinates = file.readlines()\n",
    "\n",
    "file.close()\n",
    "\n",
    "# Process data to remove whitepsace and convert numeric data    \n",
    "for n in range(0, len(meth_coordinates)):\n",
    "    meth_coordinates[n] = meth_coordinates[n].strip()\n",
    "    meth_coordinates[n] = meth_coordinates[n].split()\n",
    "    meth_coordinates[n][1] = int(meth_coordinates[n][1])\n",
    "    meth_coordinates[n][2] = int(meth_coordinates[n][2])\n",
    "\n",
    "\n",
    "i = 20     # value to extend coordinates with, i can be changed depending on extension requirements.\n",
    "j = 0      # counter variable to iterate over entire list of methylation sites\n",
    "meth_coordinates_extended = []     # new list to store information of extended sites\n",
    "\n",
    "\n",
    "# 2. Extend methylation coordiantes with value of choice (i, see above).\n",
    "for line in range(0, len(meth_coordinates)):\n",
    "    chrom = meth_coordinates[j][0]\n",
    "    start = meth_coordinates[j][1]-i\n",
    "    stop = meth_coordinates[j][2]+i\n",
    "    meth_coordinates_extended.append([chrom, start, stop])\n",
    "    j += 1\n",
    "    \n",
    "    \n",
    "# 3. Save extended coordiantes of methylation site in new file\n",
    "\n",
    "output_file = open(\"../files/infinium-methylationepic_RNbeadsAnalysis_allSites_extended_20nt.bed\", \"w\")\n",
    "\n",
    "def reconstruct_extended_sites(coordinates):\n",
    "    k = 0\n",
    "    for line in range(len(coordinates)):\n",
    "        output_file.write(str(coordinates[k][0]) + \"\\t\" + str(coordinates[k][1]) + \"\\t\" + str(coordinates[k][2]) + \"\\n\")\n",
    "        k += 1\n",
    "        \n",
    "reconstruct_extended_sites(meth_coordinates_extended)\n",
    "\n",
    "output_file.close()"
   ]
  }
 ],
 "metadata": {
  "kernelspec": {
   "display_name": "Python 3 (ipykernel)",
   "language": "python",
   "name": "python3"
  },
  "language_info": {
   "codemirror_mode": {
    "name": "ipython",
    "version": 3
   },
   "file_extension": ".py",
   "mimetype": "text/x-python",
   "name": "python",
   "nbconvert_exporter": "python",
   "pygments_lexer": "ipython3",
   "version": "3.8.10"
  }
 },
 "nbformat": 4,
 "nbformat_minor": 5
}
