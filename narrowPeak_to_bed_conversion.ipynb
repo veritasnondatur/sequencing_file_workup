{
 "cells": [
  {
   "cell_type": "markdown",
   "id": "036d57ef-f886-440c-861c-60fe2986dc6d",
   "metadata": {},
   "source": [
    "### Conversion of .narrowPeak to .bed files\n",
    "- Author: Vera Laub\n",
    "- Last updated: 06/17/2025\n",
    "- Input: .narrowPeaks file\n",
    "- Output: corresponding .bed file"
   ]
  },
  {
   "cell_type": "code",
   "execution_count": 15,
   "id": "f34d21c1-8d8c-43c9-a207-cbcbab382a5d",
   "metadata": {},
   "outputs": [
    {
     "name": "stdout",
     "output_type": "stream",
     "text": [
      "[['chr1', '3057548', '3057716'], ['chr1', '3101096', '3101264'], ['chr1', '3165918', '3166089'], ['chr1', '3219340', '3219815'], ['chr1', '3221224', '3221458'], ['chr1', '3399118', '3399286'], ['chr1', '3410303', '3410513'], ['chr1', '3433920', '3434107'], ['chr1', '3546226', '3546394'], ['chr1', '3579589', '3579757']]\n"
     ]
    }
   ],
   "source": [
    "# Retrieve data from input file\n",
    "with open('../data/ChIP-seq/midface/E115Epi-PBX1_2_peaks.narrowPeak', 'r') as file:\n",
    "    lines = file.readlines()  # This makes it a list\n",
    "\n",
    "chip_coordinates = []\n",
    "\n",
    "for line in lines:  # Skipping the header\n",
    "    parts = line.strip().split('\\t')  # Split on tab\n",
    "    selected = [parts[0], parts[1], parts[2]]  # Assuming columns: chrom, start, end\n",
    "    selected[0] = 'chr' + selected[0]  # Add 'chr' prefix to chromosome\n",
    "    chip_coordinates.append(selected)\n",
    "\n",
    "print(chip_coordinates[:10])"
   ]
  },
  {
   "cell_type": "code",
   "execution_count": 16,
   "id": "2c7de607-13f4-479f-b02b-911782ec33f6",
   "metadata": {},
   "outputs": [
    {
     "name": "stdout",
     "output_type": "stream",
     "text": [
      "Saved BED file to: ../data/ChIP-seq/midface/E115Epi-PBX1_2_peaks.bed\n"
     ]
    }
   ],
   "source": [
    "import os\n",
    "\n",
    "# Path to original file\n",
    "input_path = '../data/ChIP-seq/midface/E115Epi-PBX1_2_peaks.narrowPeak'\n",
    "\n",
    "# Derive output path with .bed extension\n",
    "base, _ = os.path.splitext(input_path)\n",
    "output_path = base + '.bed'\n",
    "\n",
    "# Read and process the input file\n",
    "chip_coordinates = []\n",
    "\n",
    "with open(input_path, 'r') as file:\n",
    "    lines = file.readlines()\n",
    "\n",
    "for line in lines:  # Skip header\n",
    "    parts = line.strip().split('\\t')  # Tab-separated\n",
    "    selected = ['chr' + parts[0], parts[1], parts[2]]  # Select and modify\n",
    "    chip_coordinates.append(selected)\n",
    "\n",
    "# Write to .bed file\n",
    "with open(output_path, 'w') as out_file:\n",
    "    for entry in chip_coordinates:\n",
    "        out_file.write('\\t'.join(entry) + '\\n')\n",
    "\n",
    "print(f\"Saved BED file to: {output_path}\")\n"
   ]
  }
 ],
 "metadata": {
  "kernelspec": {
   "display_name": "Python 3 (ipykernel)",
   "language": "python",
   "name": "python3"
  },
  "language_info": {
   "codemirror_mode": {
    "name": "ipython",
    "version": 3
   },
   "file_extension": ".py",
   "mimetype": "text/x-python",
   "name": "python",
   "nbconvert_exporter": "python",
   "pygments_lexer": "ipython3",
   "version": "3.12.6"
  }
 },
 "nbformat": 4,
 "nbformat_minor": 5
}
